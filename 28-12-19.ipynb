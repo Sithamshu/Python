{
 "cells": [
  {
   "cell_type": "code",
   "execution_count": 2,
   "metadata": {},
   "outputs": [
    {
     "name": "stdout",
     "output_type": "stream",
     "text": [
      "['p', 'n', 't', 'v']\n"
     ]
    }
   ],
   "source": [
    "# Input:\"pynative\"\n",
    "# Output:'p','n','t','v' (using function)\n",
    "\n",
    "s1=\"pynative\"\n",
    "li=list(s1)\n",
    "print(li[::2])"
   ]
  },
  {
   "cell_type": "code",
   "execution_count": 8,
   "metadata": {},
   "outputs": [
    {
     "data": {
      "text/plain": [
       "['p', 'n', 't', 'v']"
      ]
     },
     "execution_count": 8,
     "metadata": {},
     "output_type": "execute_result"
    }
   ],
   "source": [
    "def split(s1):\n",
    "        l1=list(s1)\n",
    "        return l1[::2]\n",
    "split(\"pynative\")"
   ]
  },
  {
   "cell_type": "code",
   "execution_count": 12,
   "metadata": {},
   "outputs": [
    {
     "name": "stdout",
     "output_type": "stream",
     "text": [
      "true\n",
      "false\n"
     ]
    }
   ],
   "source": [
    "def firstnlast(n):\n",
    "    if n[0]==n[-1]:\n",
    "         return \"true\"\n",
    "    else:\n",
    "         return \"false\"\n",
    "n1=[1,2,3,4,5,1]\n",
    "n2=[1,2,3,4,5]\n",
    "print(firstnlast(n1))\n",
    "print(firstnlast(n2))\n"
   ]
  },
  {
   "cell_type": "code",
   "execution_count": 43,
   "metadata": {},
   "outputs": [
    {
     "name": "stdout",
     "output_type": "stream",
     "text": [
      "1\n",
      "22\n",
      "333\n",
      "4444\n",
      "55555\n"
     ]
    }
   ],
   "source": [
    "def series(s):\n",
    "    for i in range(1,s+1):\n",
    "        print(str(i)*i)\n",
    "series(5)"
   ]
  },
  {
   "cell_type": "code",
   "execution_count": 44,
   "metadata": {},
   "outputs": [
    {
     "name": "stdout",
     "output_type": "stream",
     "text": [
      "enter name: nani\n",
      "enter age: 20\n",
      "nani turns old in 2099\n"
     ]
    }
   ],
   "source": [
    "p=input(\"enter name: \")\n",
    "q=int(input(\"enter age: \"))\n",
    "m=100-q\n",
    "o=m+2019\n",
    "print(p,\"turns old in\",o)"
   ]
  },
  {
   "cell_type": "code",
   "execution_count": null,
   "metadata": {},
   "outputs": [],
   "source": []
  }
 ],
 "metadata": {
  "kernelspec": {
   "display_name": "Python 3",
   "language": "python",
   "name": "python3"
  },
  "language_info": {
   "codemirror_mode": {
    "name": "ipython",
    "version": 3
   },
   "file_extension": ".py",
   "mimetype": "text/x-python",
   "name": "python",
   "nbconvert_exporter": "python",
   "pygments_lexer": "ipython3",
   "version": "3.7.3"
  }
 },
 "nbformat": 4,
 "nbformat_minor": 2
}
